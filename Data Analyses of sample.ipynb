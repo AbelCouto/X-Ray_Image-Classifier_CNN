{
 "cells": [
  {
   "cell_type": "code",
   "execution_count": 55,
   "id": "32a9100e",
   "metadata": {},
   "outputs": [],
   "source": [
    "import pandas as pd \n",
    "import matplotlib.pyplot as plt\n",
    "import matplotlib.ticker as plticker\n",
    "import seaborn as sns\n",
    "import scipy.stats \n",
    "import numpy as np"
   ]
  },
  {
   "cell_type": "code",
   "execution_count": 33,
   "id": "4eb099e3",
   "metadata": {},
   "outputs": [],
   "source": [
    "df = pd.read_csv(\"C:\\\\Users\\\\a2-coutodeoliv\\\\OneDrive - UWE Bristol\\\\sample\\\\sample_labels.csv\")"
   ]
  },
  {
   "cell_type": "code",
   "execution_count": 35,
   "id": "f0c60c91",
   "metadata": {},
   "outputs": [
    {
     "data": {
      "text/html": [
       "<div>\n",
       "<style scoped>\n",
       "    .dataframe tbody tr th:only-of-type {\n",
       "        vertical-align: middle;\n",
       "    }\n",
       "\n",
       "    .dataframe tbody tr th {\n",
       "        vertical-align: top;\n",
       "    }\n",
       "\n",
       "    .dataframe thead th {\n",
       "        text-align: right;\n",
       "    }\n",
       "</style>\n",
       "<table border=\"1\" class=\"dataframe\">\n",
       "  <thead>\n",
       "    <tr style=\"text-align: right;\">\n",
       "      <th></th>\n",
       "      <th>Image Index</th>\n",
       "      <th>Finding Labels</th>\n",
       "      <th>Follow-up #</th>\n",
       "      <th>Patient ID</th>\n",
       "      <th>Patient Age</th>\n",
       "      <th>Patient Gender</th>\n",
       "      <th>View Position</th>\n",
       "      <th>OriginalImageWidth</th>\n",
       "      <th>OriginalImageHeight</th>\n",
       "      <th>OriginalImagePixelSpacing_x</th>\n",
       "      <th>OriginalImagePixelSpacing_y</th>\n",
       "    </tr>\n",
       "  </thead>\n",
       "  <tbody>\n",
       "    <tr>\n",
       "      <th>0</th>\n",
       "      <td>NaN</td>\n",
       "      <td>NaN</td>\n",
       "      <td>NaN</td>\n",
       "      <td>NaN</td>\n",
       "      <td>NaN</td>\n",
       "      <td>NaN</td>\n",
       "      <td>NaN</td>\n",
       "      <td>NaN</td>\n",
       "      <td>NaN</td>\n",
       "      <td>NaN</td>\n",
       "      <td>NaN</td>\n",
       "    </tr>\n",
       "    <tr>\n",
       "      <th>1</th>\n",
       "      <td>00000013_005.png</td>\n",
       "      <td>Emphysema|Infiltration|Pleural_Thickening|Pneu...</td>\n",
       "      <td>5.0</td>\n",
       "      <td>13.0</td>\n",
       "      <td>060Y</td>\n",
       "      <td>M</td>\n",
       "      <td>AP</td>\n",
       "      <td>3056.0</td>\n",
       "      <td>2544.0</td>\n",
       "      <td>0.139000</td>\n",
       "      <td>0.139000</td>\n",
       "    </tr>\n",
       "    <tr>\n",
       "      <th>2</th>\n",
       "      <td>NaN</td>\n",
       "      <td>NaN</td>\n",
       "      <td>NaN</td>\n",
       "      <td>NaN</td>\n",
       "      <td>NaN</td>\n",
       "      <td>NaN</td>\n",
       "      <td>NaN</td>\n",
       "      <td>NaN</td>\n",
       "      <td>NaN</td>\n",
       "      <td>NaN</td>\n",
       "      <td>NaN</td>\n",
       "    </tr>\n",
       "    <tr>\n",
       "      <th>3</th>\n",
       "      <td>00000013_026.png</td>\n",
       "      <td>Cardiomegaly|Emphysema</td>\n",
       "      <td>26.0</td>\n",
       "      <td>13.0</td>\n",
       "      <td>057Y</td>\n",
       "      <td>M</td>\n",
       "      <td>AP</td>\n",
       "      <td>2500.0</td>\n",
       "      <td>2048.0</td>\n",
       "      <td>0.168000</td>\n",
       "      <td>0.168000</td>\n",
       "    </tr>\n",
       "    <tr>\n",
       "      <th>4</th>\n",
       "      <td>NaN</td>\n",
       "      <td>NaN</td>\n",
       "      <td>NaN</td>\n",
       "      <td>NaN</td>\n",
       "      <td>NaN</td>\n",
       "      <td>NaN</td>\n",
       "      <td>NaN</td>\n",
       "      <td>NaN</td>\n",
       "      <td>NaN</td>\n",
       "      <td>NaN</td>\n",
       "      <td>NaN</td>\n",
       "    </tr>\n",
       "    <tr>\n",
       "      <th>...</th>\n",
       "      <td>...</td>\n",
       "      <td>...</td>\n",
       "      <td>...</td>\n",
       "      <td>...</td>\n",
       "      <td>...</td>\n",
       "      <td>...</td>\n",
       "      <td>...</td>\n",
       "      <td>...</td>\n",
       "      <td>...</td>\n",
       "      <td>...</td>\n",
       "      <td>...</td>\n",
       "    </tr>\n",
       "    <tr>\n",
       "      <th>11207</th>\n",
       "      <td>00030789_000.png</td>\n",
       "      <td>Infiltration</td>\n",
       "      <td>0.0</td>\n",
       "      <td>30789.0</td>\n",
       "      <td>052Y</td>\n",
       "      <td>F</td>\n",
       "      <td>PA</td>\n",
       "      <td>2021.0</td>\n",
       "      <td>2021.0</td>\n",
       "      <td>0.194311</td>\n",
       "      <td>0.194311</td>\n",
       "    </tr>\n",
       "    <tr>\n",
       "      <th>11208</th>\n",
       "      <td>NaN</td>\n",
       "      <td>NaN</td>\n",
       "      <td>NaN</td>\n",
       "      <td>NaN</td>\n",
       "      <td>NaN</td>\n",
       "      <td>NaN</td>\n",
       "      <td>NaN</td>\n",
       "      <td>NaN</td>\n",
       "      <td>NaN</td>\n",
       "      <td>NaN</td>\n",
       "      <td>NaN</td>\n",
       "    </tr>\n",
       "    <tr>\n",
       "      <th>11209</th>\n",
       "      <td>00030792_000.png</td>\n",
       "      <td>No Finding</td>\n",
       "      <td>0.0</td>\n",
       "      <td>30792.0</td>\n",
       "      <td>010Y</td>\n",
       "      <td>F</td>\n",
       "      <td>PA</td>\n",
       "      <td>1775.0</td>\n",
       "      <td>1712.0</td>\n",
       "      <td>0.194311</td>\n",
       "      <td>0.194311</td>\n",
       "    </tr>\n",
       "    <tr>\n",
       "      <th>11210</th>\n",
       "      <td>NaN</td>\n",
       "      <td>NaN</td>\n",
       "      <td>NaN</td>\n",
       "      <td>NaN</td>\n",
       "      <td>NaN</td>\n",
       "      <td>NaN</td>\n",
       "      <td>NaN</td>\n",
       "      <td>NaN</td>\n",
       "      <td>NaN</td>\n",
       "      <td>NaN</td>\n",
       "      <td>NaN</td>\n",
       "    </tr>\n",
       "    <tr>\n",
       "      <th>11211</th>\n",
       "      <td>00030797_000.png</td>\n",
       "      <td>No Finding</td>\n",
       "      <td>0.0</td>\n",
       "      <td>30797.0</td>\n",
       "      <td>024Y</td>\n",
       "      <td>M</td>\n",
       "      <td>PA</td>\n",
       "      <td>2021.0</td>\n",
       "      <td>2021.0</td>\n",
       "      <td>0.194311</td>\n",
       "      <td>0.194311</td>\n",
       "    </tr>\n",
       "  </tbody>\n",
       "</table>\n",
       "<p>11212 rows × 11 columns</p>\n",
       "</div>"
      ],
      "text/plain": [
       "            Image Index                                     Finding Labels  \\\n",
       "0                   NaN                                                NaN   \n",
       "1      00000013_005.png  Emphysema|Infiltration|Pleural_Thickening|Pneu...   \n",
       "2                   NaN                                                NaN   \n",
       "3      00000013_026.png                             Cardiomegaly|Emphysema   \n",
       "4                   NaN                                                NaN   \n",
       "...                 ...                                                ...   \n",
       "11207  00030789_000.png                                       Infiltration   \n",
       "11208               NaN                                                NaN   \n",
       "11209  00030792_000.png                                         No Finding   \n",
       "11210               NaN                                                NaN   \n",
       "11211  00030797_000.png                                         No Finding   \n",
       "\n",
       "       Follow-up #  Patient ID Patient Age Patient Gender View Position  \\\n",
       "0              NaN         NaN         NaN            NaN           NaN   \n",
       "1              5.0        13.0        060Y              M            AP   \n",
       "2              NaN         NaN         NaN            NaN           NaN   \n",
       "3             26.0        13.0        057Y              M            AP   \n",
       "4              NaN         NaN         NaN            NaN           NaN   \n",
       "...            ...         ...         ...            ...           ...   \n",
       "11207          0.0     30789.0        052Y              F            PA   \n",
       "11208          NaN         NaN         NaN            NaN           NaN   \n",
       "11209          0.0     30792.0        010Y              F            PA   \n",
       "11210          NaN         NaN         NaN            NaN           NaN   \n",
       "11211          0.0     30797.0        024Y              M            PA   \n",
       "\n",
       "       OriginalImageWidth  OriginalImageHeight  OriginalImagePixelSpacing_x  \\\n",
       "0                     NaN                  NaN                          NaN   \n",
       "1                  3056.0               2544.0                     0.139000   \n",
       "2                     NaN                  NaN                          NaN   \n",
       "3                  2500.0               2048.0                     0.168000   \n",
       "4                     NaN                  NaN                          NaN   \n",
       "...                   ...                  ...                          ...   \n",
       "11207              2021.0               2021.0                     0.194311   \n",
       "11208                 NaN                  NaN                          NaN   \n",
       "11209              1775.0               1712.0                     0.194311   \n",
       "11210                 NaN                  NaN                          NaN   \n",
       "11211              2021.0               2021.0                     0.194311   \n",
       "\n",
       "       OriginalImagePixelSpacing_y  \n",
       "0                              NaN  \n",
       "1                         0.139000  \n",
       "2                              NaN  \n",
       "3                         0.168000  \n",
       "4                              NaN  \n",
       "...                            ...  \n",
       "11207                     0.194311  \n",
       "11208                          NaN  \n",
       "11209                     0.194311  \n",
       "11210                          NaN  \n",
       "11211                     0.194311  \n",
       "\n",
       "[11212 rows x 11 columns]"
      ]
     },
     "execution_count": 35,
     "metadata": {},
     "output_type": "execute_result"
    }
   ],
   "source": [
    "df"
   ]
  },
  {
   "cell_type": "code",
   "execution_count": 36,
   "id": "7de93f13",
   "metadata": {},
   "outputs": [
    {
     "name": "stdout",
     "output_type": "stream",
     "text": [
      "count     5606\n",
      "unique      92\n",
      "top       058Y\n",
      "freq       167\n",
      "Name: Patient Age, dtype: object\n"
     ]
    }
   ],
   "source": [
    "print(df['Patient Age'].describe())"
   ]
  },
  {
   "cell_type": "code",
   "execution_count": 38,
   "id": "510aaab6",
   "metadata": {},
   "outputs": [
    {
     "name": "stdout",
     "output_type": "stream",
     "text": [
      "088Y      1\n",
      "411Y      1\n",
      "086Y      1\n",
      "013M      1\n",
      "094Y      1\n",
      "       ... \n",
      "051Y    147\n",
      "057Y    148\n",
      "055Y    152\n",
      "054Y    158\n",
      "058Y    167\n",
      "Name: Patient Age, Length: 92, dtype: int64\n"
     ]
    }
   ],
   "source": [
    "print(df['Patient Age'].value_counts(ascending=True, dropna=True))"
   ]
  },
  {
   "cell_type": "code",
   "execution_count": 48,
   "id": "b7dc3435",
   "metadata": {},
   "outputs": [
    {
     "name": "stdout",
     "output_type": "stream",
     "text": [
      "1        060\n",
      "3        057\n",
      "5        077\n",
      "7        079\n",
      "9        055\n",
      "        ... \n",
      "11203    058\n",
      "11205    061\n",
      "11207    052\n",
      "11209    010\n",
      "11211    024\n",
      "Name: Patient Age, Length: 5606, dtype: object\n",
      "[8485]\n"
     ]
    }
   ],
   "source": [
    "df['Patient Age'] = df['Patient Age'].str.replace('Y', '')\n",
    "df['Patient Age'] = df['Patient Age'].str.replace('M', '')\n",
    "df['Patient Age'] = df['Patient Age'].str.replace('D', '')\n",
    "\n",
    "df = df.dropna()\n",
    "\n",
    "print(df['Patient Age'])\n",
    "\n",
    "\n",
    "\n",
    "df[\"Patient Age\"] = df[\"Patient Age\"].astype(str).astype(int)\n",
    "List_Above100 = df.index[df['Patient Age']>100].tolist()\n",
    "\n",
    "print(List_Above100)"
   ]
  },
  {
   "cell_type": "code",
   "execution_count": 50,
   "id": "fb3de50e",
   "metadata": {},
   "outputs": [
    {
     "name": "stdout",
     "output_type": "stream",
     "text": [
      "           Image Index Finding Labels  Follow-up #  Patient ID  Patient Age  \\\n",
      "8485  00020900_002.png     No Finding          2.0     20900.0          411   \n",
      "\n",
      "     Patient Gender View Position  OriginalImageWidth  OriginalImageHeight  \\\n",
      "8485              M            AP              3056.0               2544.0   \n",
      "\n",
      "      OriginalImagePixelSpacing_x  OriginalImagePixelSpacing_y  \n",
      "8485                        0.139                        0.139  \n"
     ]
    }
   ],
   "source": [
    "print(df.loc[List_Above100])"
   ]
  },
  {
   "cell_type": "code",
   "execution_count": 51,
   "id": "00711a6a",
   "metadata": {},
   "outputs": [
    {
     "name": "stdout",
     "output_type": "stream",
     "text": [
      "(0.589, 83.0]     5588\n",
      "(83.0, 165.0]       17\n",
      "(329.0, 411.0]       1\n",
      "(165.0, 247.0]       0\n",
      "(247.0, 329.0]       0\n",
      "Name: Patient Age, dtype: int64\n"
     ]
    }
   ],
   "source": [
    "\n",
    "print(df['Patient Age'].value_counts(bins=5))"
   ]
  },
  {
   "cell_type": "code",
   "execution_count": 52,
   "id": "456ca905",
   "metadata": {},
   "outputs": [],
   "source": [
    "df = df.drop(List_Above100)"
   ]
  },
  {
   "cell_type": "code",
   "execution_count": 53,
   "id": "34a4c4c0",
   "metadata": {},
   "outputs": [
    {
     "data": {
      "text/html": [
       "<div>\n",
       "<style scoped>\n",
       "    .dataframe tbody tr th:only-of-type {\n",
       "        vertical-align: middle;\n",
       "    }\n",
       "\n",
       "    .dataframe tbody tr th {\n",
       "        vertical-align: top;\n",
       "    }\n",
       "\n",
       "    .dataframe thead th {\n",
       "        text-align: right;\n",
       "    }\n",
       "</style>\n",
       "<table border=\"1\" class=\"dataframe\">\n",
       "  <thead>\n",
       "    <tr style=\"text-align: right;\">\n",
       "      <th></th>\n",
       "      <th>Image Index</th>\n",
       "      <th>Finding Labels</th>\n",
       "      <th>Follow-up #</th>\n",
       "      <th>Patient ID</th>\n",
       "      <th>Patient Age</th>\n",
       "      <th>Patient Gender</th>\n",
       "      <th>View Position</th>\n",
       "      <th>OriginalImageWidth</th>\n",
       "      <th>OriginalImageHeight</th>\n",
       "      <th>OriginalImagePixelSpacing_x</th>\n",
       "      <th>OriginalImagePixelSpacing_y</th>\n",
       "    </tr>\n",
       "  </thead>\n",
       "  <tbody>\n",
       "    <tr>\n",
       "      <th>1</th>\n",
       "      <td>00000013_005.png</td>\n",
       "      <td>Emphysema|Infiltration|Pleural_Thickening|Pneu...</td>\n",
       "      <td>5.0</td>\n",
       "      <td>13.0</td>\n",
       "      <td>60</td>\n",
       "      <td>M</td>\n",
       "      <td>AP</td>\n",
       "      <td>3056.0</td>\n",
       "      <td>2544.0</td>\n",
       "      <td>0.139000</td>\n",
       "      <td>0.139000</td>\n",
       "    </tr>\n",
       "    <tr>\n",
       "      <th>3</th>\n",
       "      <td>00000013_026.png</td>\n",
       "      <td>Cardiomegaly|Emphysema</td>\n",
       "      <td>26.0</td>\n",
       "      <td>13.0</td>\n",
       "      <td>57</td>\n",
       "      <td>M</td>\n",
       "      <td>AP</td>\n",
       "      <td>2500.0</td>\n",
       "      <td>2048.0</td>\n",
       "      <td>0.168000</td>\n",
       "      <td>0.168000</td>\n",
       "    </tr>\n",
       "    <tr>\n",
       "      <th>5</th>\n",
       "      <td>00000017_001.png</td>\n",
       "      <td>No Finding</td>\n",
       "      <td>1.0</td>\n",
       "      <td>17.0</td>\n",
       "      <td>77</td>\n",
       "      <td>M</td>\n",
       "      <td>AP</td>\n",
       "      <td>2500.0</td>\n",
       "      <td>2048.0</td>\n",
       "      <td>0.168000</td>\n",
       "      <td>0.168000</td>\n",
       "    </tr>\n",
       "    <tr>\n",
       "      <th>7</th>\n",
       "      <td>00000030_001.png</td>\n",
       "      <td>Atelectasis</td>\n",
       "      <td>1.0</td>\n",
       "      <td>30.0</td>\n",
       "      <td>79</td>\n",
       "      <td>M</td>\n",
       "      <td>PA</td>\n",
       "      <td>2992.0</td>\n",
       "      <td>2991.0</td>\n",
       "      <td>0.143000</td>\n",
       "      <td>0.143000</td>\n",
       "    </tr>\n",
       "    <tr>\n",
       "      <th>9</th>\n",
       "      <td>00000032_001.png</td>\n",
       "      <td>Cardiomegaly|Edema|Effusion</td>\n",
       "      <td>1.0</td>\n",
       "      <td>32.0</td>\n",
       "      <td>55</td>\n",
       "      <td>F</td>\n",
       "      <td>AP</td>\n",
       "      <td>2500.0</td>\n",
       "      <td>2048.0</td>\n",
       "      <td>0.168000</td>\n",
       "      <td>0.168000</td>\n",
       "    </tr>\n",
       "    <tr>\n",
       "      <th>...</th>\n",
       "      <td>...</td>\n",
       "      <td>...</td>\n",
       "      <td>...</td>\n",
       "      <td>...</td>\n",
       "      <td>...</td>\n",
       "      <td>...</td>\n",
       "      <td>...</td>\n",
       "      <td>...</td>\n",
       "      <td>...</td>\n",
       "      <td>...</td>\n",
       "      <td>...</td>\n",
       "    </tr>\n",
       "    <tr>\n",
       "      <th>11203</th>\n",
       "      <td>00030712_000.png</td>\n",
       "      <td>No Finding</td>\n",
       "      <td>0.0</td>\n",
       "      <td>30712.0</td>\n",
       "      <td>58</td>\n",
       "      <td>M</td>\n",
       "      <td>PA</td>\n",
       "      <td>2021.0</td>\n",
       "      <td>2021.0</td>\n",
       "      <td>0.194311</td>\n",
       "      <td>0.194311</td>\n",
       "    </tr>\n",
       "    <tr>\n",
       "      <th>11205</th>\n",
       "      <td>00030786_005.png</td>\n",
       "      <td>Cardiomegaly|Effusion|Emphysema</td>\n",
       "      <td>5.0</td>\n",
       "      <td>30786.0</td>\n",
       "      <td>61</td>\n",
       "      <td>F</td>\n",
       "      <td>AP</td>\n",
       "      <td>3056.0</td>\n",
       "      <td>2544.0</td>\n",
       "      <td>0.139000</td>\n",
       "      <td>0.139000</td>\n",
       "    </tr>\n",
       "    <tr>\n",
       "      <th>11207</th>\n",
       "      <td>00030789_000.png</td>\n",
       "      <td>Infiltration</td>\n",
       "      <td>0.0</td>\n",
       "      <td>30789.0</td>\n",
       "      <td>52</td>\n",
       "      <td>F</td>\n",
       "      <td>PA</td>\n",
       "      <td>2021.0</td>\n",
       "      <td>2021.0</td>\n",
       "      <td>0.194311</td>\n",
       "      <td>0.194311</td>\n",
       "    </tr>\n",
       "    <tr>\n",
       "      <th>11209</th>\n",
       "      <td>00030792_000.png</td>\n",
       "      <td>No Finding</td>\n",
       "      <td>0.0</td>\n",
       "      <td>30792.0</td>\n",
       "      <td>10</td>\n",
       "      <td>F</td>\n",
       "      <td>PA</td>\n",
       "      <td>1775.0</td>\n",
       "      <td>1712.0</td>\n",
       "      <td>0.194311</td>\n",
       "      <td>0.194311</td>\n",
       "    </tr>\n",
       "    <tr>\n",
       "      <th>11211</th>\n",
       "      <td>00030797_000.png</td>\n",
       "      <td>No Finding</td>\n",
       "      <td>0.0</td>\n",
       "      <td>30797.0</td>\n",
       "      <td>24</td>\n",
       "      <td>M</td>\n",
       "      <td>PA</td>\n",
       "      <td>2021.0</td>\n",
       "      <td>2021.0</td>\n",
       "      <td>0.194311</td>\n",
       "      <td>0.194311</td>\n",
       "    </tr>\n",
       "  </tbody>\n",
       "</table>\n",
       "<p>5605 rows × 11 columns</p>\n",
       "</div>"
      ],
      "text/plain": [
       "            Image Index                                     Finding Labels  \\\n",
       "1      00000013_005.png  Emphysema|Infiltration|Pleural_Thickening|Pneu...   \n",
       "3      00000013_026.png                             Cardiomegaly|Emphysema   \n",
       "5      00000017_001.png                                         No Finding   \n",
       "7      00000030_001.png                                        Atelectasis   \n",
       "9      00000032_001.png                        Cardiomegaly|Edema|Effusion   \n",
       "...                 ...                                                ...   \n",
       "11203  00030712_000.png                                         No Finding   \n",
       "11205  00030786_005.png                    Cardiomegaly|Effusion|Emphysema   \n",
       "11207  00030789_000.png                                       Infiltration   \n",
       "11209  00030792_000.png                                         No Finding   \n",
       "11211  00030797_000.png                                         No Finding   \n",
       "\n",
       "       Follow-up #  Patient ID  Patient Age Patient Gender View Position  \\\n",
       "1              5.0        13.0           60              M            AP   \n",
       "3             26.0        13.0           57              M            AP   \n",
       "5              1.0        17.0           77              M            AP   \n",
       "7              1.0        30.0           79              M            PA   \n",
       "9              1.0        32.0           55              F            AP   \n",
       "...            ...         ...          ...            ...           ...   \n",
       "11203          0.0     30712.0           58              M            PA   \n",
       "11205          5.0     30786.0           61              F            AP   \n",
       "11207          0.0     30789.0           52              F            PA   \n",
       "11209          0.0     30792.0           10              F            PA   \n",
       "11211          0.0     30797.0           24              M            PA   \n",
       "\n",
       "       OriginalImageWidth  OriginalImageHeight  OriginalImagePixelSpacing_x  \\\n",
       "1                  3056.0               2544.0                     0.139000   \n",
       "3                  2500.0               2048.0                     0.168000   \n",
       "5                  2500.0               2048.0                     0.168000   \n",
       "7                  2992.0               2991.0                     0.143000   \n",
       "9                  2500.0               2048.0                     0.168000   \n",
       "...                   ...                  ...                          ...   \n",
       "11203              2021.0               2021.0                     0.194311   \n",
       "11205              3056.0               2544.0                     0.139000   \n",
       "11207              2021.0               2021.0                     0.194311   \n",
       "11209              1775.0               1712.0                     0.194311   \n",
       "11211              2021.0               2021.0                     0.194311   \n",
       "\n",
       "       OriginalImagePixelSpacing_y  \n",
       "1                         0.139000  \n",
       "3                         0.168000  \n",
       "5                         0.168000  \n",
       "7                         0.143000  \n",
       "9                         0.168000  \n",
       "...                            ...  \n",
       "11203                     0.194311  \n",
       "11205                     0.139000  \n",
       "11207                     0.194311  \n",
       "11209                     0.194311  \n",
       "11211                     0.194311  \n",
       "\n",
       "[5605 rows x 11 columns]"
      ]
     },
     "execution_count": 53,
     "metadata": {},
     "output_type": "execute_result"
    }
   ],
   "source": [
    "\n",
    "df"
   ]
  },
  {
   "cell_type": "code",
   "execution_count": 56,
   "id": "4ce36d84",
   "metadata": {},
   "outputs": [
    {
     "data": {
      "image/png": "[encoded data removed]",
      "text/plain": [
       "<Figure size 432x288 with 1 Axes>"
      ]
     },
     "metadata": {
      "needs_background": "light"
     },
     "output_type": "display_data"
    }
   ],
   "source": [
    "\n",
    "plt.hist(df['Patient Age'] ,\n",
    "         histtype='bar',bins = 20, color='mediumslateblue',\n",
    "         edgecolor='white')\n",
    "plticker.MultipleLocator(base=1)\n",
    "\n",
    "\n",
    "\n",
    "\n",
    "\n",
    "plt.gca().xaxis.set_ticks(np.arange(0, 100, 10))\n",
    "\n",
    "\n",
    "plt.title(\"Histogram of Age\")\n",
    "plt.xlabel('Age of Patients')\n",
    "plt.ylabel('Count')\n",
    "\n",
    "\n",
    "\n",
    "plt.show()"
   ]
  },
  {
   "cell_type": "code",
   "execution_count": 57,
   "id": "682e454f",
   "metadata": {},
   "outputs": [
    {
     "data": {
      "text/plain": [
       "[<matplotlib.lines.Line2D at 0x17eae4a6f10>]"
      ]
     },
     "execution_count": 57,
     "metadata": {},
     "output_type": "execute_result"
    },
    {
     "data": {
      "image/png": "[encoded data removed]",
      "text/plain": [
       "<Figure size 432x288 with 1 Axes>"
      ]
     },
     "metadata": {
      "needs_background": "light"
     },
     "output_type": "display_data"
    }
   ],
   "source": [
    "#Plot the distribution of the ages \n",
    "\n",
    "\n",
    "value, bins = np.histogram(df['Patient Age'].to_list(), bins=20, density= True)\n",
    "mean_bins = [(bins[i] + bins[i+1])/2. for i in range(len(bins)-1)]\n",
    "plt.gca().xaxis.set_ticks(np.arange(0, 100, 10))\n",
    "\n",
    "plt.title(\"Distribution of Age\")\n",
    "plt.xlabel('Age of Patients')\n",
    "plt.ylabel('Density')\n",
    "\n",
    "\n",
    "plt.plot(mean_bins, value, color='mediumslateblue')"
   ]
  },
  {
   "cell_type": "code",
   "execution_count": 58,
   "id": "5ae115f9",
   "metadata": {},
   "outputs": [
    {
     "data": {
      "image/png": "[encoded data removed]",
      "text/plain": [
       "<Figure size 432x288 with 1 Axes>"
      ]
     },
     "metadata": {
      "needs_background": "light"
     },
     "output_type": "display_data"
    }
   ],
   "source": [
    "\n",
    "\n",
    "\n",
    "M = df[df[\"Patient Gender\"]==\"M\"]\n",
    "F = df[df[\"Patient Gender\"]==\"F\"]\n",
    "\n",
    "X1 = M[\"Patient Age\"].dropna()\n",
    "X2 = F[\"Patient Age\"].dropna()\n",
    "L1=sns.kdeplot(X1, shade=True, label=\"Male\", color=\"orangered\", alpha=0.4)\n",
    "L2=sns.kdeplot(X2, shade=True, label=\"Female\",color='royalblue', alpha=0.4)\n",
    "\n",
    "\n",
    "\n",
    "plt.title(\"Distribution of Age\")\n",
    "\n",
    "plt.legend()\n",
    "plt.show()"
   ]
  },
  {
   "cell_type": "code",
   "execution_count": 59,
   "id": "533ab9d5",
   "metadata": {},
   "outputs": [
    {
     "name": "stdout",
     "output_type": "stream",
     "text": [
      "Emphysema|Infiltration|Pleural_Thickening|Pneumothorax               1\n",
      "Atelectasis|Consolidation|Nodule                                     1\n",
      "Atelectasis|Consolidation|Effusion|Fibrosis|Pleural_Thickening       1\n",
      "Consolidation|Effusion|Infiltration|Pleural_Thickening               1\n",
      "Consolidation|Edema|Effusion|Pneumonia                               1\n",
      "                                                                  ... \n",
      "Nodule                                                             144\n",
      "Atelectasis                                                        192\n",
      "Effusion                                                           203\n",
      "Infiltration                                                       503\n",
      "No Finding                                                        3043\n",
      "Name: Finding Labels, Length: 244, dtype: int64\n"
     ]
    }
   ],
   "source": [
    "#get count of how many unique illnesses in the data set\n",
    "\n",
    "\n",
    "print(df['Finding Labels'].value_counts(ascending=True, dropna=False))"
   ]
  },
  {
   "cell_type": "code",
   "execution_count": 60,
   "id": "ca71ef50",
   "metadata": {},
   "outputs": [
    {
     "name": "stdout",
     "output_type": "stream",
     "text": [
      "The amount of records are: 6977\n",
      "Unique values are: 15\n"
     ]
    }
   ],
   "source": [
    "#some of the values are recorded as a combination of multiple types, we need to break them to show the true count\n",
    "\n",
    "\n",
    "\n",
    "Label_list = []\n",
    "\n",
    "for row in df['Finding Labels']:\n",
    "    Label_list.append(row.split('|'))\n",
    "    \n",
    "#break list within list \n",
    "Label_list = [item for c_list in Label_list for item in c_list]  \n",
    "    \n",
    "num_values = len(set(Label_list))\n",
    "print('The amount of records are:', len(Label_list))\n",
    "print('Unique values are:', num_values)"
   ]
  },
  {
   "cell_type": "code",
   "execution_count": 62,
   "id": "19bfc204",
   "metadata": {},
   "outputs": [
    {
     "data": {
      "image/png": "[encoded data removed]",
      "text/plain": [
       "<Figure size 432x288 with 1 Axes>"
      ]
     },
     "metadata": {
      "needs_background": "light"
     },
     "output_type": "display_data"
    }
   ],
   "source": [
    "#plot a bar chart to show the comparison \n",
    "# To better showcase the count of the illnesses we need to remove the No findings\n",
    "# this is because they are the one with the highest count and make it hardert to understand the other types\n",
    "\n",
    "\n",
    "new_list = []\n",
    "\n",
    "for item in Label_list:\n",
    "    \n",
    "    if item == 'No Finding':\n",
    "        \n",
    "        continue\n",
    "    \n",
    "    new_list.append(item)\n",
    "\n",
    "#plotting bar graph \n",
    "\n",
    "values, counts = np.unique(new_list, return_counts=True)\n",
    "\n",
    "plt.bar(values, counts, color='mediumslateblue',edgecolor='white')\n",
    "plt.rcParams[\"figure.figsize\"] = (10,8.5)\n",
    "plt.xticks(rotation=90)\n",
    "\n",
    "plt.show()\n",
    "\n"
   ]
  },
  {
   "cell_type": "code",
   "execution_count": 63,
   "id": "815175e2",
   "metadata": {},
   "outputs": [],
   "source": [
    "df_male = df[df['Patient Gender']=='M']\n",
    "df_female = df[df['Patient Gender']=='F']"
   ]
  },
  {
   "cell_type": "code",
   "execution_count": 67,
   "id": "46e74cd7",
   "metadata": {},
   "outputs": [
    {
     "name": "stdout",
     "output_type": "stream",
     "text": [
      "['Emphysema', 'Infiltration', 'Pleural_Thickening', 'Pneumothorax', 'Cardiomegaly']\n"
     ]
    }
   ],
   "source": [
    "# certain patients in the data set had more than one illnesses, we need to separete them to get the specific count by type\n",
    "#We will break them and insert them in two empty lists\n",
    "\n",
    "Unique_Sick_Males = []\n",
    "Unique_Sick_Females = []\n",
    "\n",
    "for row in df_male['Finding Labels']:\n",
    "    Unique_Sick_Males .append(row.split('|'))\n",
    "\n",
    "for row in df_female['Finding Labels']:\n",
    "    Unique_Sick_Females .append(row.split('|'))\n",
    "    \n",
    "#break list withi lists\n",
    "    \n",
    "Unique_Sick_Males = [item for c_list in Unique_Sick_Males for item in c_list] \n",
    "Unique_Sick_Females = [item for c_list in Unique_Sick_Females for item in c_list] \n",
    "\n",
    "print(Unique_Sick_Males[:5] )"
   ]
  },
  {
   "cell_type": "code",
   "execution_count": 68,
   "id": "9e2796a0",
   "metadata": {},
   "outputs": [
    {
     "data": {
      "image/png": "[encoded data removed]",
      "text/plain": [
       "<Figure size 720x612 with 1 Axes>"
      ]
     },
     "metadata": {
      "needs_background": "light"
     },
     "output_type": "display_data"
    }
   ],
   "source": [
    "# To better showcase the count of the illnesses we need to remove the No findings\n",
    "# this is because they are the one with the highest count and make it hardert to understand the other types\n",
    "\n",
    "new_list_Males = []\n",
    "new_list_Females = []\n",
    "\n",
    "for item in Unique_Sick_Females:\n",
    "    if item == 'No Finding':\n",
    "        continue\n",
    "    new_list_Females.append(item)\n",
    "\n",
    "for item in Unique_Sick_Males:\n",
    "    if item == 'No Finding': \n",
    "        continue\n",
    "    \n",
    "    new_list_Males.append(item)\n",
    "\n",
    "\n",
    "\n",
    "\n",
    "#ploting multiple bar graphs \n",
    "\n",
    "values1, counts1 = np.unique(new_list_Females, return_counts=True)\n",
    "values2, counts2 = np.unique(new_list_Males, return_counts=True)\n",
    "\n",
    "\n",
    "x_axis = np.arange(len(values1))\n",
    "plt.bar(x_axis - 0.2, counts1, 0.4, label = 'Female', color='mediumslateblue', edgecolor='white')\n",
    "plt.bar(x_axis + 0.2, counts2, 0.4, label = 'Males', color='lightsteelblue', edgecolor='white')\n",
    "plt.xticks(x_axis, values1)\n",
    "plt.rcParams[\"figure.figsize\"] = (10,8.5)\n",
    "plt.xticks(rotation=90)\n",
    "\n",
    "plt.legend()\n",
    "plt.show()"
   ]
  },
  {
   "cell_type": "code",
   "execution_count": 69,
   "id": "8bf690f7",
   "metadata": {},
   "outputs": [
    {
     "data": {
      "image/png": "[encoded data removed]",
      "text/plain": [
       "<Figure size 720x612 with 1 Axes>"
      ]
     },
     "metadata": {
      "needs_background": "light"
     },
     "output_type": "display_data"
    }
   ],
   "source": [
    "# We now want to showcase two caterogies, these being no findings and finding \n",
    "# We need to add all the types of illnesses as one type, Finding.\n",
    "\n",
    "Male_Findings = []\n",
    "Female_Findings = []\n",
    "\n",
    "for row in df_male['Finding Labels']:\n",
    "    if row == 'No Finding':\n",
    "        Male_Findings.append('No Finding')\n",
    "    else:\n",
    "        Male_Findings.append('Finding')\n",
    "        \n",
    "for row in df_female['Finding Labels']:\n",
    "    if row == 'No Finding':\n",
    "        Female_Findings.append('No Finding')\n",
    "    else:\n",
    "        Female_Findings.append('Finding')\n",
    "        \n",
    "#ploting multiple bar graphs \n",
    "\n",
    "values3, counts3 = np.unique(Male_Findings , return_counts=True)\n",
    "values4, counts4 = np.unique(Female_Findings, return_counts=True)\n",
    "\n",
    "\n",
    "x_axis1 = np.arange(len(values3))\n",
    "plt.bar(x_axis1 - 0.2, counts3, 0.4, label = 'Males', color = 'lightsteelblue', edgecolor='white')\n",
    "plt.bar(x_axis1 + 0.2, counts4, 0.4, label = 'Females', color = 'mediumslateblue', edgecolor='white')\n",
    "plt.xticks(x_axis1, values3)\n",
    "plt.rcParams[\"figure.figsize\"] = (10,8.5)\n",
    "plt.xticks(rotation=90)\n",
    "\n",
    "plt.legend()\n",
    "plt.show()\n",
    "        \n",
    "  "
   ]
  },
  {
   "cell_type": "code",
   "execution_count": 70,
   "id": "c058a766",
   "metadata": {},
   "outputs": [
    {
     "data": {
      "image/png": "[encoded data removed]",
      "text/plain": [
       "<Figure size 720x612 with 1 Axes>"
      ]
     },
     "metadata": {},
     "output_type": "display_data"
    }
   ],
   "source": [
    "#create a piechart to showcase the number of males vs females in the datase\n",
    "\n",
    "label = ['Female', 'Male']\n",
    "color = ['#ff9999','#66b3ff']\n",
    "plt.pie(df.groupby('Patient Gender').size(), labels = label,  autopct='%1.1f%%', shadow=True, startangle=90, colors = color)\n",
    "\n",
    "plt.title('Gender of Patients')\n",
    "plt.tight_layout()\n",
    "plt.show()"
   ]
  },
  {
   "cell_type": "code",
   "execution_count": 71,
   "id": "2155f494",
   "metadata": {},
   "outputs": [
    {
     "data": {
      "image/png": "[encoded data removed]",
      "text/plain": [
       "<Figure size 720x612 with 1 Axes>"
      ]
     },
     "metadata": {
      "needs_background": "light"
     },
     "output_type": "display_data"
    }
   ],
   "source": [
    "#plot barplot to showcase PA images Vs Ap images by gender type\n",
    "\n",
    "\n",
    "values5, counts5 = np.unique(df_male['View Position'] , return_counts=True)\n",
    "values6, counts6 = np.unique(df_female['View Position'], return_counts=True)\n",
    "\n",
    "\n",
    "x_axis2 = np.arange(len(values5))\n",
    "plt.bar(x_axis2 - 0.2, counts5, 0.4, label = 'Males', color = 'lightsteelblue', edgecolor='white')\n",
    "plt.bar(x_axis2 + 0.2, counts6, 0.4, label = 'Females', color = 'mediumslateblue', edgecolor='white')\n",
    "plt.xticks(x_axis2, values5)\n",
    "plt.rcParams[\"figure.figsize\"] = (10,8.5)\n",
    "plt.xticks(rotation=90)\n",
    "\n",
    "plt.legend()\n",
    "plt.show()\n",
    "        "
   ]
  },
  {
   "cell_type": "code",
   "execution_count": null,
   "id": "23bc59f3",
   "metadata": {},
   "outputs": [],
   "source": []
  }
 ],
 "metadata": {
  "kernelspec": {
   "display_name": "Python 3 (ipykernel)",
   "language": "python",
   "name": "python3"
  },
  "language_info": {
   "codemirror_mode": {
    "name": "ipython",
    "version": 3
   },
   "file_extension": ".py",
   "mimetype": "text/x-python",
   "name": "python",
   "nbconvert_exporter": "python",
   "pygments_lexer": "ipython3",
   "version": "3.9.12"
  }
 },
 "nbformat": 4,
 "nbformat_minor": 5
}
