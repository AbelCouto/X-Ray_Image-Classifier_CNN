{
 "cells": [
  {
   "cell_type": "code",
   "execution_count": 1,
   "id": "9a798a94",
   "metadata": {},
   "outputs": [],
   "source": [
    "import numpy as np\n",
    "import matplotlib.pyplot as plt\n",
    "import glob\n",
    "import cv2\n",
    "import tensorflow as tf"
   ]
  },
  {
   "cell_type": "code",
   "execution_count": 2,
   "id": "d810c269",
   "metadata": {},
   "outputs": [],
   "source": [
    "from keras.models import Model,Sequential\n",
    "from keras.layers import Dense, Flatten, Conv2D, MaxPooling2D, Dropout\n",
    "from keras.regularizers import l1\n",
    "from tensorflow.keras.layers import BatchNormalization\n",
    "import os\n",
    "import seaborn as sns"
   ]
  },
  {
   "cell_type": "code",
   "execution_count": 3,
   "id": "2d5ae99c",
   "metadata": {},
   "outputs": [],
   "source": [
    "# Avoid OOM errors by setting GPU Memory Comsumption Growth \n",
    "gpus = tf.config.experimental.list_physical_devices('GPU')\n",
    "for gpu in gpus:\n",
    "    tf.config.experimental.set_memory_growth(gpu, True)"
   ]
  },
  {
   "cell_type": "code",
   "execution_count": 4,
   "id": "34fdd4b1",
   "metadata": {},
   "outputs": [
    {
     "name": "stdout",
     "output_type": "stream",
     "text": [
      "['test', 'train', 'val']\n"
     ]
    }
   ],
   "source": [
    "print(os.listdir(\"C:\\\\Users\\\\a2-coutodeoliv\\\\OneDrive - UWE Bristol\\\\Images\\\\RF_CNN_img\\\\RF_CNN_img\"))"
   ]
  },
  {
   "cell_type": "code",
   "execution_count": 5,
   "id": "b3d8c07f",
   "metadata": {},
   "outputs": [],
   "source": [
    "size = 600"
   ]
  },
  {
   "cell_type": "code",
   "execution_count": 6,
   "id": "916d9cdb",
   "metadata": {},
   "outputs": [],
   "source": [
    "train_images = []\n",
    "train_labels = []\n",
    "for directory_path in glob.glob(\"C:\\\\Users\\\\a2-coutodeoliv\\\\OneDrive - UWE Bristol\\\\Images\\\\RF_CNN_img\\\\RF_CNN_img\\\\train\\\\*\"):\n",
    "    label = directory_path.split(\"\\\\\")[-1]\n",
    "    \n",
    "    for img_path in glob.glob(os.path.join(directory_path, \"*.png\")):\n",
    "        \n",
    "        img = cv2.imread(img_path, cv2.IMREAD_COLOR)\n",
    "        img = cv2.resize(img, (size,size))\n",
    "        img = cv2.cvtColor(img, cv2.COLOR_RGB2BGR)\n",
    "        train_images.append(img)\n",
    "        train_labels.append(label)"
   ]
  },
  {
   "cell_type": "code",
   "execution_count": 7,
   "id": "d7a239cf",
   "metadata": {},
   "outputs": [],
   "source": [
    "train_images = np.array(train_images)\n",
    "train_labels = np.array(train_labels)"
   ]
  },
  {
   "cell_type": "code",
   "execution_count": 8,
   "id": "82b3b002",
   "metadata": {},
   "outputs": [],
   "source": [
    "test_images = []\n",
    "test_labels = []\n",
    "\n",
    "for directory_path in glob.glob(\"C:\\\\Users\\\\a2-coutodeoliv\\\\OneDrive - UWE Bristol\\\\Images\\\\RF_CNN_img\\\\RF_CNN_img\\\\test\\\\*\"):\n",
    "    new_label = directory_path.split(\"\\\\\")[-1]\n",
    "    \n",
    "    for img_path in glob.glob(os.path.join(directory_path, \"*.png\")):\n",
    "        \n",
    "        img = cv2.imread(img_path, cv2.IMREAD_COLOR)\n",
    "        img = cv2.resize(img, (size,size))\n",
    "        img = cv2.cvtColor(img, cv2.COLOR_RGB2BGR)\n",
    "        test_images.append(img)\n",
    "        test_labels.append(new_label)\n",
    "        \n",
    "        \n",
    "test_images = np.array(test_images)\n",
    "test_labels = np.array(test_labels)"
   ]
  },
  {
   "cell_type": "code",
   "execution_count": 9,
   "id": "055bf5b1",
   "metadata": {},
   "outputs": [],
   "source": [
    "#Encode labels from Text to int\n",
    "from sklearn import preprocessing "
   ]
  },
  {
   "cell_type": "code",
   "execution_count": 10,
   "id": "a073fe6f",
   "metadata": {},
   "outputs": [],
   "source": [
    "label_e = preprocessing.LabelEncoder()\n",
    "label_e.fit(test_labels)\n",
    "test_labels_encoded = label_e.transform(test_labels)\n",
    "label_e.fit(train_labels)\n",
    "train_labels_encoded = label_e.transform(train_labels)"
   ]
  },
  {
   "cell_type": "code",
   "execution_count": 11,
   "id": "acd6cb1d",
   "metadata": {},
   "outputs": [],
   "source": [
    "#Split data into test and train datasets \n",
    "x_train, y_train, x_test, y_test = train_images, train_labels_encoded, test_images, test_labels_encoded"
   ]
  },
  {
   "cell_type": "code",
   "execution_count": 12,
   "id": "0edc1165",
   "metadata": {},
   "outputs": [],
   "source": [
    "# Normalize pixel values to between 0 and 1\n",
    "x_train, x_test = x_train / 255.0, x_test / 255.0\n",
    "\n"
   ]
  },
  {
   "cell_type": "code",
   "execution_count": 13,
   "id": "df94cc9d",
   "metadata": {},
   "outputs": [],
   "source": [
    "from keras.utils import to_categorical\n",
    "\n",
    "y_train_one_hot = to_categorical(y_train)\n",
    "y_test_one_hot = to_categorical(y_test)\n"
   ]
  },
  {
   "cell_type": "code",
   "execution_count": 14,
   "id": "958852b9",
   "metadata": {},
   "outputs": [],
   "source": [
    "model = Sequential()\n",
    "model.add(Conv2D(8, (3,3),(2, 2), activation='relu', input_shape=(600,600,3)))\n",
    "model.add(BatchNormalization())\n",
    "model.add(MaxPooling2D(pool_size=(2, 2)))\n",
    "model.add(Dropout(0.2))\n",
    " \n",
    "model.add(Conv2D(16, (3,3), (2, 2), activation = 'relu'))\n",
    "model.add(BatchNormalization())\n",
    "model.add(MaxPooling2D(pool_size=(2, 2)))\n",
    "model.add(Dropout(0.3))\n",
    "\n",
    "model.add(Conv2D(8, (3,3), (2, 2), activation = 'relu'))\n",
    "model.add(BatchNormalization())\n",
    "model.add(MaxPooling2D(pool_size=(2, 2)))\n",
    "model.add(Dropout(0.4))\n",
    "\n",
    "\n",
    "model.add(Flatten())\n",
    "\n",
    "x = model.output\n",
    "x = Dense(2, activation ='linear', activity_regularizer=l1(0.001))(x)\n",
    "prediction_layer = Dense(1,activation='sigmoid')(x)\n"
   ]
  },
  {
   "cell_type": "code",
   "execution_count": 15,
   "id": "a9900d0b",
   "metadata": {},
   "outputs": [
    {
     "name": "stdout",
     "output_type": "stream",
     "text": [
      "141/141 [==============================] - 43s 286ms/step\n",
      "18/18 [==============================] - 4s 143ms/step\n"
     ]
    }
   ],
   "source": [
    "X_for_RF = model.predict(x_train)\n",
    "\n",
    "#RANDOM FOREST\n",
    "from sklearn.ensemble import RandomForestClassifier\n",
    "RF_model = RandomForestClassifier(n_estimators = 50, random_state = 42)\n",
    "\n",
    "# Train the model on training data\n",
    "RF_model.fit(X_for_RF, y_train) #For sklearn no one hot encoding\n",
    "\n",
    "#Send test data through same feature extractor process\n",
    "X_test_feature = model.predict(x_test)\n",
    "#Now predict using the trained RF model. \n",
    "prediction_RF = RF_model.predict(X_test_feature)\n",
    "#Inverse le transform to get original label back. \n",
    "prediction_RF_1 = label_e.inverse_transform(prediction_RF)\n"
   ]
  },
  {
   "cell_type": "code",
   "execution_count": 17,
   "id": "e3008e87",
   "metadata": {},
   "outputs": [
    {
     "name": "stdout",
     "output_type": "stream",
     "text": [
      "Accuracy =  0.6405693950177936\n",
      "[[144 113]\n",
      " [ 89 216]]\n",
      "Precision: 0.6565349544072948\n",
      "Recall: 0.7081967213114754\n",
      "F05: 0.6662553979025292\n",
      "AxesSubplot(0.125,0.125;0.62x0.755)\n"
     ]
    },
    {
     "data": {
      "image/png": "[encoded data removed]",
      "text/plain": [
       "<Figure size 432x288 with 2 Axes>"
      ]
     },
     "metadata": {
      "needs_background": "light"
     },
     "output_type": "display_data"
    }
   ],
   "source": [
    "from sklearn import metrics\n",
    "from sklearn.metrics import confusion_matrix\n",
    "from sklearn.metrics import recall_score, precision_score,accuracy_score,roc_auc_score\n",
    "\n",
    "print (\"Accuracy = \", metrics.accuracy_score(test_labels, prediction_RF_1))\n",
    "\n",
    "\n",
    "#Confusion Matrix - verify accuracy of each class\n",
    "cm = confusion_matrix(test_labels, prediction_RF_1)\n",
    "precision = precision_score(y_test, prediction_RF)\n",
    "recall = recall_score(y_test, prediction_RF)\n",
    "f05=(1.25 * precision * recall) / (0.25 * precision + recall)\n",
    "print(cm)\n",
    "print(\"Precision:\",precision)\n",
    "print(\"Recall:\", recall)\n",
    "print(\"F05:\", f05)\n",
    "print(sns.heatmap(cm, annot= True))\n"
   ]
  },
  {
   "cell_type": "code",
   "execution_count": null,
   "id": "cd1b2fdd",
   "metadata": {},
   "outputs": [],
   "source": []
  }
 ],
 "metadata": {
  "kernelspec": {
   "display_name": "Python 3",
   "language": "python",
   "name": "python3"
  },
  "language_info": {
   "codemirror_mode": {
    "name": "ipython",
    "version": 3
   },
   "file_extension": ".py",
   "mimetype": "text/x-python",
   "name": "python",
   "nbconvert_exporter": "python",
   "pygments_lexer": "ipython3",
   "version": "3.7.11"
  }
 },
 "nbformat": 4,
 "nbformat_minor": 5
}
