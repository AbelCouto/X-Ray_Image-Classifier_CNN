{
 "cells": [
  {
   "cell_type": "code",
   "execution_count": 9,
   "id": "165dca4b",
   "metadata": {},
   "outputs": [],
   "source": [
    "import numpy as np\n",
    "import matplotlib.pyplot as plt\n",
    "import os\n",
    "import glob\n",
    "import cv2"
   ]
  },
  {
   "cell_type": "code",
   "execution_count": 12,
   "id": "39f43e57",
   "metadata": {},
   "outputs": [],
   "source": [
    "#os.mkdir(\"/Users/abelcouto/Documents/Dissertation/sample/Gray_Images/Findings\")\n",
    "imge_p= glob.glob(\"/Users/abelcouto/Documents/Dissertation/sample/images/Findings/*.png\")\n",
    "i = 0\n",
    "for img in imge_p:\n",
    "    \n",
    "    gray = cv2.imread(img)\n",
    "    gray_img = cv2.cvtColor(gray, cv2.COLOR_BGR2GRAY)\n",
    "    cv2.imwrite(\"/Users/abelcouto/Documents/Dissertation/sample/Gray_Images/Findings/image%02i.png\" %i, gray_img)\n",
    "    i += 1"
   ]
  },
  {
   "cell_type": "code",
   "execution_count": 13,
   "id": "701b5564",
   "metadata": {},
   "outputs": [],
   "source": [
    "\n",
    "imge_p2 = glob.glob(\"/Users/abelcouto/Documents/Dissertation/sample/images/No_Findings/*.png\")\n",
    "\n",
    "b = 0\n",
    "for img1 in imge_p2:\n",
    "    \n",
    "    gray1 = cv2.imread(img1)\n",
    "    gray_img1 = cv2.cvtColor(gray1, cv2.COLOR_BGR2GRAY)\n",
    "    cv2.imwrite(\"/Users/abelcouto/Documents/Dissertation/sample/Gray_Images/No_Findings/image%02i.png\" %b, gray_img1)\n",
    "    b += 1"
   ]
  },
  {
   "cell_type": "code",
   "execution_count": 20,
   "id": "5cc9dff7",
   "metadata": {},
   "outputs": [
    {
     "name": "stdout",
     "output_type": "stream",
     "text": [
      "PNG\n",
      "(1024, 1024)\n",
      "L\n"
     ]
    },
    {
     "ename": "NameError",
     "evalue": "name 'load_image' is not defined",
     "output_type": "error",
     "traceback": [
      "\u001b[0;31m---------------------------------------------------------------------------\u001b[0m",
      "\u001b[0;31mNameError\u001b[0m                                 Traceback (most recent call last)",
      "Input \u001b[0;32mIn [20]\u001b[0m, in \u001b[0;36m<cell line: 10>\u001b[0;34m()\u001b[0m\n\u001b[1;32m      7\u001b[0m \u001b[38;5;28mprint\u001b[39m(imageG\u001b[38;5;241m.\u001b[39msize)\n\u001b[1;32m      8\u001b[0m \u001b[38;5;28mprint\u001b[39m(imageG\u001b[38;5;241m.\u001b[39mmode)\n\u001b[0;32m---> 10\u001b[0m \u001b[43mload_image\u001b[49m\u001b[38;5;241m.\u001b[39mshow()\n",
      "\u001b[0;31mNameError\u001b[0m: name 'load_image' is not defined"
     ]
    }
   ],
   "source": [
    "from PIL import Image\n",
    "\n",
    "imageG = Image.open('/Users/abelcouto/Documents/Dissertation/sample/Gray_Images/No_Findings/image00.png')\n",
    "\n",
    "\n",
    "print(imageG.format)\n",
    "print(imageG.size)\n",
    "print(imageG.mode)\n",
    "\n",
    "\n"
   ]
  },
  {
   "cell_type": "code",
   "execution_count": null,
   "id": "674a17ad",
   "metadata": {},
   "outputs": [],
   "source": []
  }
 ],
 "metadata": {
  "kernelspec": {
   "display_name": "Python 3.9 (tensorflow)",
   "language": "python",
   "name": "tensorflow"
  },
  "language_info": {
   "codemirror_mode": {
    "name": "ipython",
    "version": 3
   },
   "file_extension": ".py",
   "mimetype": "text/x-python",
   "name": "python",
   "nbconvert_exporter": "python",
   "pygments_lexer": "ipython3",
   "version": "3.9.13"
  }
 },
 "nbformat": 4,
 "nbformat_minor": 5
}
