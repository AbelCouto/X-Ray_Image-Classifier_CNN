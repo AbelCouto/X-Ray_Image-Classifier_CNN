{
 "cells": [
  {
   "cell_type": "code",
   "execution_count": 9,
   "id": "165dca4b",
   "metadata": {},
   "outputs": [],
   "source": [
    "import numpy as np\n",
    "import matplotlib.pyplot as plt\n",
    "import os\n",
    "import glob\n",
    "import cv2"
   ]
  },
  {
   "cell_type": "code",
   "execution_count": 12,
   "id": "39f43e57",
   "metadata": {},
   "outputs": [],
   "source": [
    "#os.mkdir(\"/Users/abelcouto/Documents/Dissertation/sample/Gray_Images/Findings\")\n",
    "imge_p= glob.glob(\"/Users/abelcouto/Documents/Dissertation/sample/images/Findings/*.png\")\n",
    "i = 0\n",
    "for img in imge_p:\n",
    "    \n",
    "    gray = cv2.imread(img)\n",
    "    gray_img = cv2.cvtColor(gray, cv2.COLOR_BGR2GRAY)\n",
    "    cv2.imwrite(\"/Users/abelcouto/Documents/Dissertation/sample/Gray_Images/Findings/image%02i.png\" %i, gray_img)\n",
    "    i += 1"
   ]
  },
  {
   "cell_type": "code",
   "execution_count": 13,
   "id": "4373be8a",
   "metadata": {},
   "outputs": [],
   "source": [
    "\n",
    "imge_p2 = glob.glob(\"/Users/abelcouto/Documents/Dissertation/sample/images/No_Findings/*.png\")\n",
    "\n",
    "b = 0\n",
    "for img1 in imge_p2:\n",
    "    \n",
    "    gray1 = cv2.imread(img1)\n",
    "    gray_img1 = cv2.cvtColor(gray1, cv2.COLOR_BGR2GRAY)\n",
    "    cv2.imwrite(\"/Users/abelcouto/Documents/Dissertation/sample/Gray_Images/No_Findings/image%02i.png\" %b, gray_img1)\n",
    "    b += 1"
   ]
  },
  {
   "cell_type": "code",
   "execution_count": null,
   "id": "3cc3ae35",
   "metadata": {},
   "outputs": [],
   "source": []
  }
 ],
 "metadata": {
  "kernelspec": {
   "display_name": "Python 3.9 (tensorflow)",
   "language": "python",
   "name": "tensorflow"
  },
  "language_info": {
   "codemirror_mode": {
    "name": "ipython",
    "version": 3
   },
   "file_extension": ".py",
   "mimetype": "text/x-python",
   "name": "python",
   "nbconvert_exporter": "python",
   "pygments_lexer": "ipython3",
   "version": "3.9.13"
  }
 },
 "nbformat": 4,
 "nbformat_minor": 5
}
